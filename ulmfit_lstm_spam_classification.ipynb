{
 "cells": [
  {
   "cell_type": "code",
   "execution_count": 1,
   "id": "0c46555f-8eef-4ead-8e4c-fd375229b293",
   "metadata": {},
   "outputs": [
    {
     "name": "stdout",
     "output_type": "stream",
     "text": [
      "Requirement already satisfied: fastai in ./miniconda3/lib/python3.10/site-packages (2.7.12)\n",
      "Requirement already satisfied: scipy in ./miniconda3/lib/python3.10/site-packages (from fastai) (1.10.1)\n",
      "Requirement already satisfied: pandas in ./miniconda3/lib/python3.10/site-packages (from fastai) (2.0.3)\n",
      "Requirement already satisfied: pyyaml in ./miniconda3/lib/python3.10/site-packages (from fastai) (6.0.1)\n",
      "Requirement already satisfied: pillow>6.0.0 in ./miniconda3/lib/python3.10/site-packages (from fastai) (10.0.0)\n",
      "Requirement already satisfied: packaging in ./miniconda3/lib/python3.10/site-packages (from fastai) (23.0)\n",
      "Requirement already satisfied: fastcore<1.6,>=1.5.29 in ./miniconda3/lib/python3.10/site-packages (from fastai) (1.5.29)\n",
      "Requirement already satisfied: scikit-learn in ./miniconda3/lib/python3.10/site-packages (from fastai) (1.2.2)\n",
      "Requirement already satisfied: fastprogress>=0.2.4 in ./miniconda3/lib/python3.10/site-packages (from fastai) (1.0.3)\n",
      "Requirement already satisfied: spacy<4 in ./miniconda3/lib/python3.10/site-packages (from fastai) (3.6.1)\n",
      "Requirement already satisfied: torch<2.1,>=1.7 in ./miniconda3/lib/python3.10/site-packages (from fastai) (2.0.1)\n",
      "Requirement already satisfied: matplotlib in ./miniconda3/lib/python3.10/site-packages (from fastai) (3.7.2)\n",
      "Requirement already satisfied: requests in ./miniconda3/lib/python3.10/site-packages (from fastai) (2.29.0)\n",
      "Requirement already satisfied: fastdownload<2,>=0.0.5 in ./miniconda3/lib/python3.10/site-packages (from fastai) (0.0.7)\n",
      "Requirement already satisfied: torchvision>=0.8.2 in ./miniconda3/lib/python3.10/site-packages (from fastai) (0.15.2)\n",
      "Requirement already satisfied: pip in ./miniconda3/lib/python3.10/site-packages (from fastai) (23.0.1)\n",
      "Requirement already satisfied: wasabi<1.2.0,>=0.9.1 in ./miniconda3/lib/python3.10/site-packages (from spacy<4->fastai) (1.1.2)\n",
      "Requirement already satisfied: jinja2 in ./miniconda3/lib/python3.10/site-packages (from spacy<4->fastai) (3.1.2)\n",
      "Requirement already satisfied: pathy>=0.10.0 in ./miniconda3/lib/python3.10/site-packages (from spacy<4->fastai) (0.10.2)\n",
      "Requirement already satisfied: preshed<3.1.0,>=3.0.2 in ./miniconda3/lib/python3.10/site-packages (from spacy<4->fastai) (3.0.8)\n",
      "Requirement already satisfied: pydantic!=1.8,!=1.8.1,<3.0.0,>=1.7.4 in ./miniconda3/lib/python3.10/site-packages (from spacy<4->fastai) (2.3.0)\n",
      "Requirement already satisfied: typer<0.10.0,>=0.3.0 in ./miniconda3/lib/python3.10/site-packages (from spacy<4->fastai) (0.9.0)\n",
      "Requirement already satisfied: smart-open<7.0.0,>=5.2.1 in ./miniconda3/lib/python3.10/site-packages (from spacy<4->fastai) (6.3.0)\n",
      "Requirement already satisfied: spacy-legacy<3.1.0,>=3.0.11 in ./miniconda3/lib/python3.10/site-packages (from spacy<4->fastai) (3.0.12)\n",
      "Requirement already satisfied: srsly<3.0.0,>=2.4.3 in ./miniconda3/lib/python3.10/site-packages (from spacy<4->fastai) (2.4.7)\n",
      "Requirement already satisfied: catalogue<2.1.0,>=2.0.6 in ./miniconda3/lib/python3.10/site-packages (from spacy<4->fastai) (2.0.9)\n",
      "Requirement already satisfied: thinc<8.2.0,>=8.1.8 in ./miniconda3/lib/python3.10/site-packages (from spacy<4->fastai) (8.1.12)\n",
      "Requirement already satisfied: cymem<2.1.0,>=2.0.2 in ./miniconda3/lib/python3.10/site-packages (from spacy<4->fastai) (2.0.7)\n",
      "Requirement already satisfied: tqdm<5.0.0,>=4.38.0 in ./miniconda3/lib/python3.10/site-packages (from spacy<4->fastai) (4.65.0)\n",
      "Requirement already satisfied: spacy-loggers<2.0.0,>=1.0.0 in ./miniconda3/lib/python3.10/site-packages (from spacy<4->fastai) (1.0.4)\n",
      "Requirement already satisfied: langcodes<4.0.0,>=3.2.0 in ./miniconda3/lib/python3.10/site-packages (from spacy<4->fastai) (3.3.0)\n",
      "Requirement already satisfied: numpy>=1.15.0 in ./miniconda3/lib/python3.10/site-packages (from spacy<4->fastai) (1.24.3)\n",
      "Requirement already satisfied: setuptools in ./miniconda3/lib/python3.10/site-packages (from spacy<4->fastai) (65.6.3)\n",
      "Requirement already satisfied: murmurhash<1.1.0,>=0.28.0 in ./miniconda3/lib/python3.10/site-packages (from spacy<4->fastai) (1.0.9)\n",
      "Requirement already satisfied: urllib3<1.27,>=1.21.1 in ./miniconda3/lib/python3.10/site-packages (from requests->fastai) (1.26.16)\n",
      "Requirement already satisfied: idna<4,>=2.5 in ./miniconda3/lib/python3.10/site-packages (from requests->fastai) (3.4)\n",
      "Requirement already satisfied: certifi>=2017.4.17 in ./miniconda3/lib/python3.10/site-packages (from requests->fastai) (2023.5.7)\n",
      "Requirement already satisfied: charset-normalizer<4,>=2 in ./miniconda3/lib/python3.10/site-packages (from requests->fastai) (2.0.4)\n",
      "Requirement already satisfied: typing-extensions in ./miniconda3/lib/python3.10/site-packages (from torch<2.1,>=1.7->fastai) (4.7.1)\n",
      "Requirement already satisfied: filelock in ./miniconda3/lib/python3.10/site-packages (from torch<2.1,>=1.7->fastai) (3.12.2)\n",
      "Requirement already satisfied: sympy in ./miniconda3/lib/python3.10/site-packages (from torch<2.1,>=1.7->fastai) (1.12)\n",
      "Requirement already satisfied: networkx in ./miniconda3/lib/python3.10/site-packages (from torch<2.1,>=1.7->fastai) (3.1)\n",
      "Requirement already satisfied: cycler>=0.10 in ./miniconda3/lib/python3.10/site-packages (from matplotlib->fastai) (0.11.0)\n",
      "Requirement already satisfied: fonttools>=4.22.0 in ./miniconda3/lib/python3.10/site-packages (from matplotlib->fastai) (4.42.0)\n",
      "Requirement already satisfied: contourpy>=1.0.1 in ./miniconda3/lib/python3.10/site-packages (from matplotlib->fastai) (1.1.0)\n",
      "Requirement already satisfied: pyparsing<3.1,>=2.3.1 in ./miniconda3/lib/python3.10/site-packages (from matplotlib->fastai) (3.0.9)\n",
      "Requirement already satisfied: kiwisolver>=1.0.1 in ./miniconda3/lib/python3.10/site-packages (from matplotlib->fastai) (1.4.4)\n",
      "Requirement already satisfied: python-dateutil>=2.7 in ./miniconda3/lib/python3.10/site-packages (from matplotlib->fastai) (2.8.2)\n",
      "Requirement already satisfied: pytz>=2020.1 in ./miniconda3/lib/python3.10/site-packages (from pandas->fastai) (2023.3)\n",
      "Requirement already satisfied: tzdata>=2022.1 in ./miniconda3/lib/python3.10/site-packages (from pandas->fastai) (2023.3)\n",
      "Requirement already satisfied: joblib>=1.1.1 in ./miniconda3/lib/python3.10/site-packages (from scikit-learn->fastai) (1.2.0)\n",
      "Requirement already satisfied: threadpoolctl>=2.0.0 in ./miniconda3/lib/python3.10/site-packages (from scikit-learn->fastai) (2.2.0)\n",
      "Requirement already satisfied: annotated-types>=0.4.0 in ./miniconda3/lib/python3.10/site-packages (from pydantic!=1.8,!=1.8.1,<3.0.0,>=1.7.4->spacy<4->fastai) (0.5.0)\n",
      "Requirement already satisfied: pydantic-core==2.6.3 in ./miniconda3/lib/python3.10/site-packages (from pydantic!=1.8,!=1.8.1,<3.0.0,>=1.7.4->spacy<4->fastai) (2.6.3)\n",
      "Requirement already satisfied: six>=1.5 in ./miniconda3/lib/python3.10/site-packages (from python-dateutil>=2.7->matplotlib->fastai) (1.16.0)\n",
      "Requirement already satisfied: confection<1.0.0,>=0.0.1 in ./miniconda3/lib/python3.10/site-packages (from thinc<8.2.0,>=8.1.8->spacy<4->fastai) (0.1.1)\n",
      "Requirement already satisfied: blis<0.8.0,>=0.7.8 in ./miniconda3/lib/python3.10/site-packages (from thinc<8.2.0,>=8.1.8->spacy<4->fastai) (0.7.10)\n",
      "Requirement already satisfied: click<9.0.0,>=7.1.1 in ./miniconda3/lib/python3.10/site-packages (from typer<0.10.0,>=0.3.0->spacy<4->fastai) (8.1.6)\n",
      "Requirement already satisfied: MarkupSafe>=2.0 in ./miniconda3/lib/python3.10/site-packages (from jinja2->spacy<4->fastai) (2.1.3)\n",
      "Requirement already satisfied: mpmath>=0.19 in ./miniconda3/lib/python3.10/site-packages (from sympy->torch<2.1,>=1.7->fastai) (1.3.0)\n",
      "Note: you may need to restart the kernel to use updated packages.\n"
     ]
    }
   ],
   "source": [
    "pip install fastai"
   ]
  },
  {
   "cell_type": "code",
   "execution_count": 2,
   "id": "08aa2e0f-1f89-4094-bd08-9049d5754f89",
   "metadata": {},
   "outputs": [],
   "source": [
    "import pandas as pd\n",
    "from fastai.text.all import *"
   ]
  },
  {
   "cell_type": "code",
   "execution_count": 3,
   "id": "9acabf64-cbc5-44ad-9abd-99bfb432b9d7",
   "metadata": {},
   "outputs": [
    {
     "data": {
      "text/html": [
       "<div>\n",
       "<style scoped>\n",
       "    .dataframe tbody tr th:only-of-type {\n",
       "        vertical-align: middle;\n",
       "    }\n",
       "\n",
       "    .dataframe tbody tr th {\n",
       "        vertical-align: top;\n",
       "    }\n",
       "\n",
       "    .dataframe thead th {\n",
       "        text-align: right;\n",
       "    }\n",
       "</style>\n",
       "<table border=\"1\" class=\"dataframe\">\n",
       "  <thead>\n",
       "    <tr style=\"text-align: right;\">\n",
       "      <th></th>\n",
       "      <th>v1</th>\n",
       "      <th>v2</th>\n",
       "      <th>Unnamed: 2</th>\n",
       "      <th>Unnamed: 3</th>\n",
       "      <th>Unnamed: 4</th>\n",
       "    </tr>\n",
       "  </thead>\n",
       "  <tbody>\n",
       "    <tr>\n",
       "      <th>0</th>\n",
       "      <td>ham</td>\n",
       "      <td>Go until jurong point, crazy.. Available only in bugis n great world la e buffet... Cine there got amore wat...</td>\n",
       "      <td>NaN</td>\n",
       "      <td>NaN</td>\n",
       "      <td>NaN</td>\n",
       "    </tr>\n",
       "    <tr>\n",
       "      <th>1</th>\n",
       "      <td>ham</td>\n",
       "      <td>Ok lar... Joking wif u oni...</td>\n",
       "      <td>NaN</td>\n",
       "      <td>NaN</td>\n",
       "      <td>NaN</td>\n",
       "    </tr>\n",
       "    <tr>\n",
       "      <th>2</th>\n",
       "      <td>spam</td>\n",
       "      <td>Free entry in 2 a wkly comp to win FA Cup final tkts 21st May 2005. Text FA to 87121 to receive entry question(std txt rate)T&amp;C's apply 08452810075over18's</td>\n",
       "      <td>NaN</td>\n",
       "      <td>NaN</td>\n",
       "      <td>NaN</td>\n",
       "    </tr>\n",
       "    <tr>\n",
       "      <th>3</th>\n",
       "      <td>ham</td>\n",
       "      <td>U dun say so early hor... U c already then say...</td>\n",
       "      <td>NaN</td>\n",
       "      <td>NaN</td>\n",
       "      <td>NaN</td>\n",
       "    </tr>\n",
       "    <tr>\n",
       "      <th>4</th>\n",
       "      <td>ham</td>\n",
       "      <td>Nah I don't think he goes to usf, he lives around here though</td>\n",
       "      <td>NaN</td>\n",
       "      <td>NaN</td>\n",
       "      <td>NaN</td>\n",
       "    </tr>\n",
       "  </tbody>\n",
       "</table>\n",
       "</div>"
      ],
      "text/plain": [
       "     v1  \\\n",
       "0   ham   \n",
       "1   ham   \n",
       "2  spam   \n",
       "3   ham   \n",
       "4   ham   \n",
       "\n",
       "                                                                                                                                                            v2  \\\n",
       "0                                              Go until jurong point, crazy.. Available only in bugis n great world la e buffet... Cine there got amore wat...   \n",
       "1                                                                                                                                Ok lar... Joking wif u oni...   \n",
       "2  Free entry in 2 a wkly comp to win FA Cup final tkts 21st May 2005. Text FA to 87121 to receive entry question(std txt rate)T&C's apply 08452810075over18's   \n",
       "3                                                                                                            U dun say so early hor... U c already then say...   \n",
       "4                                                                                                Nah I don't think he goes to usf, he lives around here though   \n",
       "\n",
       "  Unnamed: 2 Unnamed: 3 Unnamed: 4  \n",
       "0        NaN        NaN        NaN  \n",
       "1        NaN        NaN        NaN  \n",
       "2        NaN        NaN        NaN  \n",
       "3        NaN        NaN        NaN  \n",
       "4        NaN        NaN        NaN  "
      ]
     },
     "execution_count": 3,
     "metadata": {},
     "output_type": "execute_result"
    }
   ],
   "source": [
    "# loading dataset \n",
    "df = pd.read_csv(\"spam.csv\",encoding='latin-1')\n",
    "df.head()"
   ]
  },
  {
   "cell_type": "code",
   "execution_count": 4,
   "id": "c2f1f0eb-e2d1-4998-8851-48b51ad68702",
   "metadata": {},
   "outputs": [
    {
     "name": "stdout",
     "output_type": "stream",
     "text": [
      "<class 'pandas.core.frame.DataFrame'>\n",
      "RangeIndex: 5572 entries, 0 to 5571\n",
      "Data columns (total 2 columns):\n",
      " #   Column  Non-Null Count  Dtype \n",
      "---  ------  --------------  ----- \n",
      " 0   v1      5572 non-null   object\n",
      " 1   v2      5572 non-null   object\n",
      "dtypes: object(2)\n",
      "memory usage: 87.2+ KB\n"
     ]
    }
   ],
   "source": [
    "#delete column \n",
    "df = df.drop('Unnamed: 2', axis=1)\n",
    "df = df.drop('Unnamed: 3', axis=1)\n",
    "df = df.drop('Unnamed: 4', axis=1)\n",
    "df.info()"
   ]
  },
  {
   "cell_type": "code",
   "execution_count": 5,
   "id": "7ffc5805-03f6-473d-9ce4-4ccade3a7198",
   "metadata": {},
   "outputs": [
    {
     "data": {
      "text/plain": [
       "v1    0\n",
       "v2    0\n",
       "dtype: int64"
      ]
     },
     "execution_count": 5,
     "metadata": {},
     "output_type": "execute_result"
    }
   ],
   "source": [
    "#checking null \n",
    "df.isnull().sum()"
   ]
  },
  {
   "cell_type": "code",
   "execution_count": 6,
   "id": "bca47542-60e3-4c05-982d-940fd6a7586c",
   "metadata": {},
   "outputs": [
    {
     "name": "stdout",
     "output_type": "stream",
     "text": [
      "      type  \\\n",
      "0      ham   \n",
      "1      ham   \n",
      "2     spam   \n",
      "3      ham   \n",
      "4      ham   \n",
      "...    ...   \n",
      "5567  spam   \n",
      "5568   ham   \n",
      "5569   ham   \n",
      "5570   ham   \n",
      "5571   ham   \n",
      "\n",
      "                                                                                                                                                                   text  \n",
      "0                                                       Go until jurong point, crazy.. Available only in bugis n great world la e buffet... Cine there got amore wat...  \n",
      "1                                                                                                                                         Ok lar... Joking wif u oni...  \n",
      "2           Free entry in 2 a wkly comp to win FA Cup final tkts 21st May 2005. Text FA to 87121 to receive entry question(std txt rate)T&C's apply 08452810075over18's  \n",
      "3                                                                                                                     U dun say so early hor... U c already then say...  \n",
      "4                                                                                                         Nah I don't think he goes to usf, he lives around here though  \n",
      "...                                                                                                                                                                 ...  \n",
      "5567  This is the 2nd time we have tried 2 contact u. U have won the å£750 Pound prize. 2 claim is easy, call 087187272008 NOW1! Only 10p per minute. BT-national-rate.  \n",
      "5568                                                                                                                              Will Ì_ b going to esplanade fr home?  \n",
      "5569                                                                                                          Pity, * was in mood for that. So...any other suggestions?  \n",
      "5570                                      The guy did some bitching but I acted like i'd be interested in buying something else next week and he gave it to us for free  \n",
      "5571                                                                                                                                         Rofl. Its true to its name  \n",
      "\n",
      "[5572 rows x 2 columns]\n"
     ]
    }
   ],
   "source": [
    "#change column name\n",
    "df.rename(columns={'v1': 'type', 'v2': 'text'}, inplace=True)\n",
    "\n",
    "print(df)"
   ]
  },
  {
   "cell_type": "code",
   "execution_count": 7,
   "id": "494f1494-afec-4eb1-a1e1-475274ec4820",
   "metadata": {},
   "outputs": [
    {
     "data": {
      "text/html": [
       "<div>\n",
       "<style scoped>\n",
       "    .dataframe tbody tr th:only-of-type {\n",
       "        vertical-align: middle;\n",
       "    }\n",
       "\n",
       "    .dataframe tbody tr th {\n",
       "        vertical-align: top;\n",
       "    }\n",
       "\n",
       "    .dataframe thead th {\n",
       "        text-align: right;\n",
       "    }\n",
       "</style>\n",
       "<table border=\"1\" class=\"dataframe\">\n",
       "  <thead>\n",
       "    <tr style=\"text-align: right;\">\n",
       "      <th></th>\n",
       "      <th>type</th>\n",
       "      <th>text</th>\n",
       "      <th>label</th>\n",
       "    </tr>\n",
       "  </thead>\n",
       "  <tbody>\n",
       "    <tr>\n",
       "      <th>0</th>\n",
       "      <td>ham</td>\n",
       "      <td>Go until jurong point, crazy.. Available only in bugis n great world la e buffet... Cine there got amore wat...</td>\n",
       "      <td>0</td>\n",
       "    </tr>\n",
       "    <tr>\n",
       "      <th>1</th>\n",
       "      <td>ham</td>\n",
       "      <td>Ok lar... Joking wif u oni...</td>\n",
       "      <td>0</td>\n",
       "    </tr>\n",
       "    <tr>\n",
       "      <th>2</th>\n",
       "      <td>spam</td>\n",
       "      <td>Free entry in 2 a wkly comp to win FA Cup final tkts 21st May 2005. Text FA to 87121 to receive entry question(std txt rate)T&amp;C's apply 08452810075over18's</td>\n",
       "      <td>1</td>\n",
       "    </tr>\n",
       "    <tr>\n",
       "      <th>3</th>\n",
       "      <td>ham</td>\n",
       "      <td>U dun say so early hor... U c already then say...</td>\n",
       "      <td>0</td>\n",
       "    </tr>\n",
       "    <tr>\n",
       "      <th>4</th>\n",
       "      <td>ham</td>\n",
       "      <td>Nah I don't think he goes to usf, he lives around here though</td>\n",
       "      <td>0</td>\n",
       "    </tr>\n",
       "  </tbody>\n",
       "</table>\n",
       "</div>"
      ],
      "text/plain": [
       "   type  \\\n",
       "0   ham   \n",
       "1   ham   \n",
       "2  spam   \n",
       "3   ham   \n",
       "4   ham   \n",
       "\n",
       "                                                                                                                                                          text  \\\n",
       "0                                              Go until jurong point, crazy.. Available only in bugis n great world la e buffet... Cine there got amore wat...   \n",
       "1                                                                                                                                Ok lar... Joking wif u oni...   \n",
       "2  Free entry in 2 a wkly comp to win FA Cup final tkts 21st May 2005. Text FA to 87121 to receive entry question(std txt rate)T&C's apply 08452810075over18's   \n",
       "3                                                                                                            U dun say so early hor... U c already then say...   \n",
       "4                                                                                                Nah I don't think he goes to usf, he lives around here though   \n",
       "\n",
       "   label  \n",
       "0      0  \n",
       "1      0  \n",
       "2      1  \n",
       "3      0  \n",
       "4      0  "
      ]
     },
     "execution_count": 7,
     "metadata": {},
     "output_type": "execute_result"
    }
   ],
   "source": [
    "# encoding the type to 0,1\n",
    "from sklearn.preprocessing import LabelEncoder\n",
    "\n",
    "le = LabelEncoder()\n",
    "le.fit(df['type'])\n",
    "\n",
    "df['label'] = le.transform(df['type'])\n",
    "df.head()"
   ]
  },
  {
   "cell_type": "code",
   "execution_count": 8,
   "id": "1c6caf2f-a064-4417-87c4-3ea345b68601",
   "metadata": {},
   "outputs": [],
   "source": [
    "from sklearn.model_selection import train_test_split\n",
    "label = df['label']\n",
    "X_train, X_temp, y_train, y_temp = train_test_split(df, label, test_size=0.2, random_state=42)\n",
    "X_valid, X_test, y_valid, y_test = train_test_split(X_temp, y_temp, test_size=0.5, random_state=42)"
   ]
  },
  {
   "cell_type": "code",
   "execution_count": 9,
   "id": "9b3ced0e-1158-42de-9e70-a3dab9d75bea",
   "metadata": {},
   "outputs": [
    {
     "data": {
      "text/html": [
       "\n",
       "<style>\n",
       "    /* Turns off some styling */\n",
       "    progress {\n",
       "        /* gets rid of default border in Firefox and Opera. */\n",
       "        border: none;\n",
       "        /* Needs to be in here for Safari polyfill so background images work as expected. */\n",
       "        background-size: auto;\n",
       "    }\n",
       "    progress:not([value]), progress:not([value])::-webkit-progress-bar {\n",
       "        background: repeating-linear-gradient(45deg, #7e7e7e, #7e7e7e 10px, #5c5c5c 10px, #5c5c5c 20px);\n",
       "    }\n",
       "    .progress-bar-interrupted, .progress-bar-interrupted::-webkit-progress-bar {\n",
       "        background: #F44336;\n",
       "    }\n",
       "</style>\n"
      ],
      "text/plain": [
       "<IPython.core.display.HTML object>"
      ]
     },
     "metadata": {},
     "output_type": "display_data"
    },
    {
     "data": {
      "text/html": [],
      "text/plain": [
       "<IPython.core.display.HTML object>"
      ]
     },
     "metadata": {},
     "output_type": "display_data"
    }
   ],
   "source": [
    "# Language model data preparation\n",
    "dls_lm = TextDataLoaders.from_df(df, text_col='text', is_lm=True)"
   ]
  },
  {
   "cell_type": "code",
   "execution_count": 10,
   "id": "627041db-5025-4f71-a515-717908e7c845",
   "metadata": {},
   "outputs": [],
   "source": [
    "# Fine-tuning the language model (ULMFiT step 1)\n",
    "learn = language_model_learner(dls_lm, AWD_LSTM, drop_mult=0.3)"
   ]
  },
  {
   "cell_type": "code",
   "execution_count": 11,
   "id": "9f947a74-1ec1-41c1-97bf-290d6e94f3c5",
   "metadata": {},
   "outputs": [
    {
     "data": {
      "text/html": [
       "\n",
       "<style>\n",
       "    /* Turns off some styling */\n",
       "    progress {\n",
       "        /* gets rid of default border in Firefox and Opera. */\n",
       "        border: none;\n",
       "        /* Needs to be in here for Safari polyfill so background images work as expected. */\n",
       "        background-size: auto;\n",
       "    }\n",
       "    progress:not([value]), progress:not([value])::-webkit-progress-bar {\n",
       "        background: repeating-linear-gradient(45deg, #7e7e7e, #7e7e7e 10px, #5c5c5c 10px, #5c5c5c 20px);\n",
       "    }\n",
       "    .progress-bar-interrupted, .progress-bar-interrupted::-webkit-progress-bar {\n",
       "        background: #F44336;\n",
       "    }\n",
       "</style>\n"
      ],
      "text/plain": [
       "<IPython.core.display.HTML object>"
      ]
     },
     "metadata": {},
     "output_type": "display_data"
    },
    {
     "data": {
      "text/html": [],
      "text/plain": [
       "<IPython.core.display.HTML object>"
      ]
     },
     "metadata": {},
     "output_type": "display_data"
    }
   ],
   "source": [
    "# Fine-tuning the classifier (ULMFiT step 2)\n",
    "dls_clas = TextDataLoaders.from_df(df, text_col='text', label_col='label', valid_pct=0.2, text_vocab=dls_lm.vocab)\n",
    "learn = text_classifier_learner(dls_clas, AWD_LSTM, drop_mult=0.5, metrics=accuracy)"
   ]
  },
  {
   "cell_type": "code",
   "execution_count": 12,
   "id": "47f388e2-209a-48d7-9027-42ed28eff533",
   "metadata": {},
   "outputs": [],
   "source": [
    "import torch.nn.functional as F\n",
    "\n",
    "class CustomLSTM(nn.Module):\n",
    "    def __init__(self, input_size, hidden_size, num_layers, bidirectional=True, batch_first=True, dropout_prob=0.5):\n",
    "        super(CustomLSTM, self).__init__()\n",
    "        self.lstm = nn.LSTM(input_size, hidden_size, num_layers, bidirectional=bidirectional, batch_first=batch_first)\n",
    "        \n",
    "        # Add a dense (fully connected) layer\n",
    "        self.fc = nn.Linear(hidden_size * 2 if bidirectional else hidden_size, 1)  # Output size is 1 for binary classification\n",
    "        \n",
    "        # Add ReLU activation function\n",
    "        self.relu = nn.ReLU()\n",
    "        \n",
    "        # Add dropout layer\n",
    "        self.dropout = nn.Dropout(0.5)\n",
    "        \n",
    "        # Add sigmoid activation for binary classification\n",
    "        self.sigmoid = nn.Sigmoid()\n",
    "    \n",
    "    def forward(self, x):\n",
    "        # LSTM layer\n",
    "        output, _ = self.lstm(x)\n",
    "        \n",
    "        # Apply ReLU activation\n",
    "        output = self.relu(output)\n",
    "        \n",
    "        # Apply dropout\n",
    "        output = self.dropout(output)\n",
    "        \n",
    "        # Apply dense layer\n",
    "        output = self.fc(output)\n",
    "        \n",
    "        # Apply sigmoid activation for binary classification\n",
    "        output = self.sigmoid(output)\n",
    "        \n",
    "        return output\n"
   ]
  },
  {
   "cell_type": "code",
   "execution_count": 13,
   "id": "948bb9a8-4d0c-430e-bfdd-44a712f222db",
   "metadata": {},
   "outputs": [
    {
     "name": "stdout",
     "output_type": "stream",
     "text": [
      "Vocabulary Size: 2944\n"
     ]
    }
   ],
   "source": [
    "vocab_size = len(dls_clas.vocab[0])\n",
    "print(\"Vocabulary Size:\", vocab_size)"
   ]
  },
  {
   "cell_type": "code",
   "execution_count": 14,
   "id": "a5b00ab7-40a2-475f-adc5-d42d0e7465bd",
   "metadata": {},
   "outputs": [],
   "source": [
    "# Add custom LSTM layers\n",
    "custom_lstm = CustomLSTM(2944, hidden_size=64, num_layers=2, bidirectional=True, batch_first=True)\n",
    "learn.model[0].encoder = custom_lstm"
   ]
  },
  {
   "cell_type": "code",
   "execution_count": 15,
   "id": "037cde92-81f1-400d-8838-590022baee4d",
   "metadata": {},
   "outputs": [
    {
     "data": {
      "text/html": [
       "\n",
       "<style>\n",
       "    /* Turns off some styling */\n",
       "    progress {\n",
       "        /* gets rid of default border in Firefox and Opera. */\n",
       "        border: none;\n",
       "        /* Needs to be in here for Safari polyfill so background images work as expected. */\n",
       "        background-size: auto;\n",
       "    }\n",
       "    progress:not([value]), progress:not([value])::-webkit-progress-bar {\n",
       "        background: repeating-linear-gradient(45deg, #7e7e7e, #7e7e7e 10px, #5c5c5c 10px, #5c5c5c 20px);\n",
       "    }\n",
       "    .progress-bar-interrupted, .progress-bar-interrupted::-webkit-progress-bar {\n",
       "        background: #F44336;\n",
       "    }\n",
       "</style>\n"
      ],
      "text/plain": [
       "<IPython.core.display.HTML object>"
      ]
     },
     "metadata": {},
     "output_type": "display_data"
    },
    {
     "data": {
      "text/html": [
       "<table border=\"1\" class=\"dataframe\">\n",
       "  <thead>\n",
       "    <tr style=\"text-align: left;\">\n",
       "      <th>epoch</th>\n",
       "      <th>train_loss</th>\n",
       "      <th>valid_loss</th>\n",
       "      <th>accuracy</th>\n",
       "      <th>time</th>\n",
       "    </tr>\n",
       "  </thead>\n",
       "  <tbody>\n",
       "    <tr>\n",
       "      <td>0</td>\n",
       "      <td>0.620267</td>\n",
       "      <td>0.295711</td>\n",
       "      <td>0.920108</td>\n",
       "      <td>00:10</td>\n",
       "    </tr>\n",
       "  </tbody>\n",
       "</table>"
      ],
      "text/plain": [
       "<IPython.core.display.HTML object>"
      ]
     },
     "metadata": {},
     "output_type": "display_data"
    },
    {
     "name": "stderr",
     "output_type": "stream",
     "text": [
      "/Users/imimsk/miniconda3/lib/python3.10/site-packages/fastai/text/models/core.py:97: UserWarning: MPS: no support for int64 reduction ops, casting it to int32 (Triggered internally at /Users/runner/work/pytorch/pytorch/pytorch/aten/src/ATen/native/mps/operations/ReduceOps.mm:144.)\n",
      "  real_bs = (input[:,i] != self.pad_idx).long().sum()\n"
     ]
    },
    {
     "data": {
      "text/html": [
       "\n",
       "<style>\n",
       "    /* Turns off some styling */\n",
       "    progress {\n",
       "        /* gets rid of default border in Firefox and Opera. */\n",
       "        border: none;\n",
       "        /* Needs to be in here for Safari polyfill so background images work as expected. */\n",
       "        background-size: auto;\n",
       "    }\n",
       "    progress:not([value]), progress:not([value])::-webkit-progress-bar {\n",
       "        background: repeating-linear-gradient(45deg, #7e7e7e, #7e7e7e 10px, #5c5c5c 10px, #5c5c5c 20px);\n",
       "    }\n",
       "    .progress-bar-interrupted, .progress-bar-interrupted::-webkit-progress-bar {\n",
       "        background: #F44336;\n",
       "    }\n",
       "</style>\n"
      ],
      "text/plain": [
       "<IPython.core.display.HTML object>"
      ]
     },
     "metadata": {},
     "output_type": "display_data"
    },
    {
     "data": {
      "text/html": [
       "<table border=\"1\" class=\"dataframe\">\n",
       "  <thead>\n",
       "    <tr style=\"text-align: left;\">\n",
       "      <th>epoch</th>\n",
       "      <th>train_loss</th>\n",
       "      <th>valid_loss</th>\n",
       "      <th>accuracy</th>\n",
       "      <th>time</th>\n",
       "    </tr>\n",
       "  </thead>\n",
       "  <tbody>\n",
       "    <tr>\n",
       "      <td>0</td>\n",
       "      <td>0.511637</td>\n",
       "      <td>0.306925</td>\n",
       "      <td>0.931777</td>\n",
       "      <td>00:21</td>\n",
       "    </tr>\n",
       "  </tbody>\n",
       "</table>"
      ],
      "text/plain": [
       "<IPython.core.display.HTML object>"
      ]
     },
     "metadata": {},
     "output_type": "display_data"
    }
   ],
   "source": [
    "# Train the classifier\n",
    "learn.fine_tune(1)"
   ]
  },
  {
   "cell_type": "code",
   "execution_count": 16,
   "id": "821b58cd-6a49-4c0f-91ba-215210fa782d",
   "metadata": {},
   "outputs": [
    {
     "data": {
      "text/html": [
       "\n",
       "<style>\n",
       "    /* Turns off some styling */\n",
       "    progress {\n",
       "        /* gets rid of default border in Firefox and Opera. */\n",
       "        border: none;\n",
       "        /* Needs to be in here for Safari polyfill so background images work as expected. */\n",
       "        background-size: auto;\n",
       "    }\n",
       "    progress:not([value]), progress:not([value])::-webkit-progress-bar {\n",
       "        background: repeating-linear-gradient(45deg, #7e7e7e, #7e7e7e 10px, #5c5c5c 10px, #5c5c5c 20px);\n",
       "    }\n",
       "    .progress-bar-interrupted, .progress-bar-interrupted::-webkit-progress-bar {\n",
       "        background: #F44336;\n",
       "    }\n",
       "</style>\n"
      ],
      "text/plain": [
       "<IPython.core.display.HTML object>"
      ]
     },
     "metadata": {},
     "output_type": "display_data"
    },
    {
     "data": {
      "text/html": [
       "<table border=\"1\" class=\"dataframe\">\n",
       "  <thead>\n",
       "    <tr style=\"text-align: left;\">\n",
       "      <th>epoch</th>\n",
       "      <th>train_loss</th>\n",
       "      <th>valid_loss</th>\n",
       "      <th>accuracy</th>\n",
       "      <th>time</th>\n",
       "    </tr>\n",
       "  </thead>\n",
       "  <tbody>\n",
       "    <tr>\n",
       "      <td>0</td>\n",
       "      <td>0.440895</td>\n",
       "      <td>0.231381</td>\n",
       "      <td>0.969479</td>\n",
       "      <td>00:14</td>\n",
       "    </tr>\n",
       "  </tbody>\n",
       "</table>"
      ],
      "text/plain": [
       "<IPython.core.display.HTML object>"
      ]
     },
     "metadata": {},
     "output_type": "display_data"
    },
    {
     "data": {
      "text/html": [
       "\n",
       "<style>\n",
       "    /* Turns off some styling */\n",
       "    progress {\n",
       "        /* gets rid of default border in Firefox and Opera. */\n",
       "        border: none;\n",
       "        /* Needs to be in here for Safari polyfill so background images work as expected. */\n",
       "        background-size: auto;\n",
       "    }\n",
       "    progress:not([value]), progress:not([value])::-webkit-progress-bar {\n",
       "        background: repeating-linear-gradient(45deg, #7e7e7e, #7e7e7e 10px, #5c5c5c 10px, #5c5c5c 20px);\n",
       "    }\n",
       "    .progress-bar-interrupted, .progress-bar-interrupted::-webkit-progress-bar {\n",
       "        background: #F44336;\n",
       "    }\n",
       "</style>\n"
      ],
      "text/plain": [
       "<IPython.core.display.HTML object>"
      ]
     },
     "metadata": {},
     "output_type": "display_data"
    },
    {
     "data": {
      "text/html": [
       "<table border=\"1\" class=\"dataframe\">\n",
       "  <thead>\n",
       "    <tr style=\"text-align: left;\">\n",
       "      <th>epoch</th>\n",
       "      <th>train_loss</th>\n",
       "      <th>valid_loss</th>\n",
       "      <th>accuracy</th>\n",
       "      <th>time</th>\n",
       "    </tr>\n",
       "  </thead>\n",
       "  <tbody>\n",
       "    <tr>\n",
       "      <td>0</td>\n",
       "      <td>0.323534</td>\n",
       "      <td>0.126061</td>\n",
       "      <td>0.984740</td>\n",
       "      <td>00:21</td>\n",
       "    </tr>\n",
       "    <tr>\n",
       "      <td>1</td>\n",
       "      <td>0.274581</td>\n",
       "      <td>0.133531</td>\n",
       "      <td>0.983842</td>\n",
       "      <td>00:21</td>\n",
       "    </tr>\n",
       "    <tr>\n",
       "      <td>2</td>\n",
       "      <td>0.216738</td>\n",
       "      <td>0.089368</td>\n",
       "      <td>0.984740</td>\n",
       "      <td>00:22</td>\n",
       "    </tr>\n",
       "    <tr>\n",
       "      <td>3</td>\n",
       "      <td>0.162766</td>\n",
       "      <td>0.072543</td>\n",
       "      <td>0.979354</td>\n",
       "      <td>00:22</td>\n",
       "    </tr>\n",
       "    <tr>\n",
       "      <td>4</td>\n",
       "      <td>0.115973</td>\n",
       "      <td>0.059552</td>\n",
       "      <td>0.986535</td>\n",
       "      <td>00:21</td>\n",
       "    </tr>\n",
       "    <tr>\n",
       "      <td>5</td>\n",
       "      <td>0.090327</td>\n",
       "      <td>0.065826</td>\n",
       "      <td>0.985637</td>\n",
       "      <td>00:23</td>\n",
       "    </tr>\n",
       "    <tr>\n",
       "      <td>6</td>\n",
       "      <td>0.071969</td>\n",
       "      <td>0.060120</td>\n",
       "      <td>0.983842</td>\n",
       "      <td>00:21</td>\n",
       "    </tr>\n",
       "    <tr>\n",
       "      <td>7</td>\n",
       "      <td>0.052213</td>\n",
       "      <td>0.060813</td>\n",
       "      <td>0.983842</td>\n",
       "      <td>00:22</td>\n",
       "    </tr>\n",
       "  </tbody>\n",
       "</table>"
      ],
      "text/plain": [
       "<IPython.core.display.HTML object>"
      ]
     },
     "metadata": {},
     "output_type": "display_data"
    },
    {
     "name": "stdout",
     "output_type": "stream",
     "text": [
      "No improvement since epoch 4: early stopping\n"
     ]
    }
   ],
   "source": [
    "learn.fine_tune(epochs=10, cbs=EarlyStoppingCallback(patience=3, min_delta=0.01))"
   ]
  },
  {
   "cell_type": "code",
   "execution_count": 17,
   "id": "13dd66e3-f19e-4b47-a640-dc90f49ccf17",
   "metadata": {},
   "outputs": [
    {
     "data": {
      "text/html": [
       "\n",
       "<style>\n",
       "    /* Turns off some styling */\n",
       "    progress {\n",
       "        /* gets rid of default border in Firefox and Opera. */\n",
       "        border: none;\n",
       "        /* Needs to be in here for Safari polyfill so background images work as expected. */\n",
       "        background-size: auto;\n",
       "    }\n",
       "    progress:not([value]), progress:not([value])::-webkit-progress-bar {\n",
       "        background: repeating-linear-gradient(45deg, #7e7e7e, #7e7e7e 10px, #5c5c5c 10px, #5c5c5c 20px);\n",
       "    }\n",
       "    .progress-bar-interrupted, .progress-bar-interrupted::-webkit-progress-bar {\n",
       "        background: #F44336;\n",
       "    }\n",
       "</style>\n"
      ],
      "text/plain": [
       "<IPython.core.display.HTML object>"
      ]
     },
     "metadata": {},
     "output_type": "display_data"
    },
    {
     "data": {
      "text/html": [],
      "text/plain": [
       "<IPython.core.display.HTML object>"
      ]
     },
     "metadata": {},
     "output_type": "display_data"
    },
    {
     "name": "stdout",
     "output_type": "stream",
     "text": [
      "Accuracy: 0.9838420152664185\n",
      "Accuracy: 0.9838420152664185\n",
      "Classification Report:\n",
      "               precision    recall  f1-score   support\n",
      "\n",
      "    Non-Spam       0.99      0.99      0.99       980\n",
      "        Spam       0.95      0.91      0.93       134\n",
      "\n",
      "    accuracy                           0.98      1114\n",
      "   macro avg       0.97      0.95      0.96      1114\n",
      "weighted avg       0.98      0.98      0.98      1114\n",
      "\n",
      "Confusion Matrix:\n",
      " [[974   6]\n",
      " [ 12 122]]\n"
     ]
    }
   ],
   "source": [
    "# Make predictions on the validation dataset\n",
    "preds, targets = learn.get_preds(ds_idx=1)  # Use ds_idx=1 for the validation dataset\n",
    "\n",
    "# Convert predictions to binary labels (0 or 1)\n",
    "pred_labels = (preds[:, 1] > 0.5).int()\n",
    "\n",
    "# Compute accuracy\n",
    "accuracy = (pred_labels == targets).float().mean().item()\n",
    "print(\"Accuracy:\", accuracy)\n",
    "\n",
    "\n",
    "# Compute accuracy\n",
    "accuracy = (pred_labels == targets).float().mean().item()\n",
    "print(\"Accuracy:\", accuracy)\n",
    "\n",
    "\n",
    "# You can also compute other metrics using sklearn.metrics\n",
    "from sklearn.metrics import classification_report, confusion_matrix\n",
    "\n",
    "# Compute and print a classification report\n",
    "report = classification_report(targets, pred_labels, target_names=[\"Non-Spam\", \"Spam\"])\n",
    "print(\"Classification Report:\\n\", report)\n",
    "\n",
    "# Compute and print a confusion matrix\n",
    "confusion = confusion_matrix(targets, pred_labels)\n",
    "print(\"Confusion Matrix:\\n\", confusion)\n"
   ]
  },
  {
   "cell_type": "code",
   "execution_count": 18,
   "id": "b9e3a420-07be-467a-94dc-2a10e6607281",
   "metadata": {},
   "outputs": [
    {
     "data": {
      "text/html": [
       "\n",
       "<style>\n",
       "    /* Turns off some styling */\n",
       "    progress {\n",
       "        /* gets rid of default border in Firefox and Opera. */\n",
       "        border: none;\n",
       "        /* Needs to be in here for Safari polyfill so background images work as expected. */\n",
       "        background-size: auto;\n",
       "    }\n",
       "    progress:not([value]), progress:not([value])::-webkit-progress-bar {\n",
       "        background: repeating-linear-gradient(45deg, #7e7e7e, #7e7e7e 10px, #5c5c5c 10px, #5c5c5c 20px);\n",
       "    }\n",
       "    .progress-bar-interrupted, .progress-bar-interrupted::-webkit-progress-bar {\n",
       "        background: #F44336;\n",
       "    }\n",
       "</style>\n"
      ],
      "text/plain": [
       "<IPython.core.display.HTML object>"
      ]
     },
     "metadata": {},
     "output_type": "display_data"
    },
    {
     "data": {
      "text/html": [],
      "text/plain": [
       "<IPython.core.display.HTML object>"
      ]
     },
     "metadata": {},
     "output_type": "display_data"
    },
    {
     "name": "stdout",
     "output_type": "stream",
     "text": [
      "Message: win a free gift!! / Predicted Label: 0\n"
     ]
    }
   ],
   "source": [
    "# Predict on new SMS messages\n",
    "sms_messages = [\"win a free gift!!\"]\n",
    "results = learn.predict(sms_messages)\n",
    "for message, label in zip(sms_messages, results[0]):\n",
    "    print(f\"Message: {message} / Predicted Label: {learn.dls.vocab[1][int(label)]}\")"
   ]
  },
  {
   "cell_type": "code",
   "execution_count": 21,
   "id": "8b93d75d-ad9e-4144-a221-05c059e1959e",
   "metadata": {},
   "outputs": [
    {
     "name": "stdout",
     "output_type": "stream",
     "text": [
      "Validation Accuracy: 0.9838420152664185\n",
      "Test Accuracy: 0.9838420152664185\n"
     ]
    }
   ],
   "source": [
    "from sklearn.metrics import accuracy_score\n",
    "\n",
    "# Function to validate the model\n",
    "def validate_model(learn, X_valid, y_valid):\n",
    "    # Put the model in evaluation mode\n",
    "    learn.model.eval()\n",
    "    \n",
    "    # Make predictions on the validation data\n",
    "    preds, _ = learn.get_preds(ds_idx=1)  # Use ds_idx=1 for the validation dataset\n",
    "    pred_labels = (preds[:, 1] > 0.5).int()  # Convert probabilities to binary labels\n",
    "    \n",
    "    # Calculate accuracy\n",
    "    accuracy = accuracy_score(y_valid, pred_labels)\n",
    "    \n",
    "print(\"Validation Accuracy:\", accuracy)\n",
    "\n",
    "# Function to test the model\n",
    "def test_model(learn, X_test, y_test):\n",
    "    # Put the model in evaluation mode\n",
    "    learn.model.eval()\n",
    "    \n",
    "    # Make predictions on the test data\n",
    "    preds, _ = learn.get_preds(ds_idx=2)  # Use ds_idx=2 for the test dataset\n",
    "    pred_labels = (preds[:, 1] > 0.5).int()  # Convert probabilities to binary labels\n",
    "    \n",
    "    # Calculate accuracy\n",
    "    accuracy = accuracy_score(y_test, pred_labels)\n",
    "    \n",
    "print(\"Test Accuracy:\", accuracy)\n"
   ]
  },
  {
   "cell_type": "code",
   "execution_count": null,
   "id": "168429d6-d164-459d-9ed4-c624be0df7f0",
   "metadata": {},
   "outputs": [],
   "source": []
  }
 ],
 "metadata": {
  "kernelspec": {
   "display_name": "Python 3 (ipykernel)",
   "language": "python",
   "name": "python3"
  },
  "language_info": {
   "codemirror_mode": {
    "name": "ipython",
    "version": 3
   },
   "file_extension": ".py",
   "mimetype": "text/x-python",
   "name": "python",
   "nbconvert_exporter": "python",
   "pygments_lexer": "ipython3",
   "version": "3.10.12"
  }
 },
 "nbformat": 4,
 "nbformat_minor": 5
}
